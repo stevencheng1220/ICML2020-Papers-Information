{
 "cells": [
  {
   "cell_type": "code",
   "execution_count": null,
   "metadata": {
    "colab": {
     "base_uri": "https://localhost:8080/",
     "height": 666
    },
    "colab_type": "code",
    "executionInfo": {
     "elapsed": 14640,
     "status": "ok",
     "timestamp": 1594580075442,
     "user": {
      "displayName": "Steven Cheng",
      "photoUrl": "",
      "userId": "15041532372456051546"
     },
     "user_tz": 420
    },
    "id": "DL4IXzxRFZOm",
    "outputId": "3a164d73-8c57-4ddb-edb7-90558d5d5e30"
   },
   "outputs": [],
   "source": [
    "# Install packages\n",
    "!pip3 install requests\n",
    "!pip3 install beautifulsoup4\n",
    "!pip3 install scholarly\n",
    "!pip3 install pandas"
   ]
  },
  {
   "cell_type": "code",
   "execution_count": null,
   "metadata": {
    "colab": {},
    "colab_type": "code",
    "executionInfo": {
     "elapsed": 11968,
     "status": "ok",
     "timestamp": 1594580075443,
     "user": {
      "displayName": "Steven Cheng",
      "photoUrl": "",
      "userId": "15041532372456051546"
     },
     "user_tz": 420
    },
    "id": "6x1D_4ZRFbXu"
   },
   "outputs": [],
   "source": [
    "# Import packages\n",
    "import requests\n",
    "from bs4 import BeautifulSoup\n",
    "from scholarly import scholarly\n",
    "import pandas as pd\n",
    "import csv\n",
    "import time\n",
    "import random"
   ]
  },
  {
   "cell_type": "markdown",
   "metadata": {},
   "source": [
    "Step 1 (after installing/importing libraries): Generate csv of papers with associated authors"
   ]
  },
  {
   "cell_type": "code",
   "execution_count": null,
   "metadata": {
    "colab": {},
    "colab_type": "code",
    "executionInfo": {
     "elapsed": 8824,
     "status": "ok",
     "timestamp": 1594580075443,
     "user": {
      "displayName": "Steven Cheng",
      "photoUrl": "",
      "userId": "15041532372456051546"
     },
     "user_tz": 420
    },
    "id": "813qf6MtFdR-"
   },
   "outputs": [],
   "source": [
    "# Initialize variables\n",
    "## Updated as of 7/11/2020 11:07AM PST ##\n",
    "start_idx = 5765\n",
    "end_idx = 6852\n",
    "url_template = \"https://icml.cc/Conferences/2020/Schedule?showEvent=\"\n",
    "papers = []"
   ]
  },
  {
   "cell_type": "code",
   "execution_count": null,
   "metadata": {
    "colab": {},
    "colab_type": "code",
    "executionInfo": {
     "elapsed": 7572,
     "status": "ok",
     "timestamp": 1594580075444,
     "user": {
      "displayName": "Steven Cheng",
      "photoUrl": "",
      "userId": "15041532372456051546"
     },
     "user_tz": 420
    },
    "id": "rCKu3EAyLbRt"
   },
   "outputs": [],
   "source": [
    "# Define functions\n",
    "\n",
    "# Assert equals for verification of accessing website\n",
    "def assert_equals(request_code):\n",
    "    if request_code == 200:\n",
    "        return True\n",
    "    else:\n",
    "        return False"
   ]
  },
  {
   "cell_type": "code",
   "execution_count": null,
   "metadata": {
    "colab": {
     "base_uri": "https://localhost:8080/",
     "height": 1000
    },
    "colab_type": "code",
    "executionInfo": {
     "elapsed": 727004,
     "status": "ok",
     "timestamp": 1594526881780,
     "user": {
      "displayName": "Steven Cheng",
      "photoUrl": "",
      "userId": "15041532372456051546"
     },
     "user_tz": 420
    },
    "id": "Ei5orj43Fg6J",
    "outputId": "708da9cc-06a5-4c12-c911-9cecdd38cc41"
   },
   "outputs": [],
   "source": [
    "# Iterate through all papers and find title and author names\n",
    "for i in range(start_idx, end_idx+1):\n",
    "\n",
    "  # Initialize variables\n",
    "  paper_info = []\n",
    "  author_names = []\n",
    "  url = url_template + str(i)\n",
    "\n",
    "  # HTTPS request to the url\n",
    "  try:\n",
    "    page = requests.get(url)\n",
    "    assert_equals(page.status_code) # Asserts that the page is parsable, 200 is success parse\n",
    "    soup = BeautifulSoup(page.content, \"html.parser\")\n",
    "\n",
    "    # Find title and list of authors\n",
    "    title = soup.find(\"div\", class_=\"maincardBody\").text\n",
    "    button_list = soup.find_all(\"button\", class_=\"btn btn-default\")\n",
    "\n",
    "    # Just so users can see at which step is it on\n",
    "    print(str(i) + \" \" + title)\n",
    "\n",
    "    # Append all information\n",
    "    paper_info.append(title)  \n",
    "    author_names = []\n",
    "    for div in button_list:\n",
    "      author = div.text[1:-2]\n",
    "      author_names.append(author)\n",
    "    paper_info.append(\", \".join(author_names))\n",
    "    paper_info.append(i)\n",
    "\n",
    "    # Adds author information and paper title into papers 2D list\n",
    "    papers.append(paper_info)\n",
    "    print()\n",
    "\n",
    "  except:\n",
    "    print(\"No page found.\")\n",
    "    print()\n",
    "    continue"
   ]
  },
  {
   "cell_type": "code",
   "execution_count": null,
   "metadata": {
    "colab": {},
    "colab_type": "code",
    "id": "jsPkTw53niGi"
   },
   "outputs": [],
   "source": [
    "# Appends data into csv file\n",
    "with open('ICML2020_papers_authors_ID.csv', 'w', newline='') as file:\n",
    "    writer = csv.writer(file)\n",
    "    writer.writerow([\"Paper Title\", \"Authors\", \"ID\"])\n",
    "    for paper in papers:\n",
    "      writer.writerow(paper)"
   ]
  },
  {
   "cell_type": "markdown",
   "metadata": {
    "colab_type": "text",
    "id": "BUva6kxrJbac"
   },
   "source": [
    "Step 2: Parse the papers and process the authors of the papers, then search the authors on Google Scholars for identification."
   ]
  },
  {
   "cell_type": "code",
   "execution_count": null,
   "metadata": {
    "colab": {},
    "colab_type": "code",
    "id": "IilQbB29VRr9"
   },
   "outputs": [],
   "source": [
    "# Initialize\n",
    "author_names = []\n",
    "author_infos = []"
   ]
  },
  {
   "cell_type": "code",
   "execution_count": null,
   "metadata": {
    "colab": {},
    "colab_type": "code",
    "id": "TXPSmRhBVU1Q"
   },
   "outputs": [],
   "source": [
    "# Loading up papers csv and separating all authors into individual elements for iteration\n",
    "icml_papers = pd.read_csv(\"ICML2020_papers_authors_ID.csv\")\n",
    "for row in icml[\"Authors\"]:\n",
    "  author_names += row.split(\", \")"
   ]
  },
  {
   "cell_type": "code",
   "execution_count": null,
   "metadata": {
    "colab": {},
    "colab_type": "code",
    "id": "Pbo6kiaAVcGN"
   },
   "outputs": [],
   "source": [
    "# Querying all authors in the author_names list in Google Scholars, obtain affiliations\n",
    "# THIS WILL TAKE A LONG TIME, TRY TO AVOID DOING THIS MANY TIMES\n",
    "for i, author in enumerate(author_names):\n",
    "  try:\n",
    "    search_query = scholarly.search_author(author)\n",
    "    info = next(search_query)\n",
    "    info = info.fill(sections=[\"basic\"])\n",
    "    author_infos.append([author, info.affiliation])\n",
    "    print(str(i) + \" \" + author + \", \" + info.affiliation)\n",
    "  except:\n",
    "    print(str(i) + \" \" + author + \" not found, or there might be a disconnection from Google Scholars\")\n",
    "  time.sleep(random.uniform(5,6)) # Pause is required or else Google Scholars will block your IP!"
   ]
  },
  {
   "cell_type": "code",
   "execution_count": null,
   "metadata": {
    "colab": {},
    "colab_type": "code",
    "id": "mWdlOVl2V6t7"
   },
   "outputs": [],
   "source": [
    "# Add all information into ICML2020_authors.csv file\n",
    "with open(\"ICML2020_authors_all.csv\", 'w', newline='') as file:\n",
    "  writer = csv.writer(file)\n",
    "  writer.writerow([\"Author\", \"Affiliation\"])\n",
    "  for info in author_infos:\n",
    "    writer.writerow(info)"
   ]
  },
  {
   "cell_type": "markdown",
   "metadata": {
    "colab_type": "text",
    "id": "cOf4DVK7KvEV"
   },
   "source": [
    "Step 3: Look at the authors and depending on what institutions/colleges you are interested in focusing more on, you can filter the papers."
   ]
  },
  {
   "cell_type": "code",
   "execution_count": null,
   "metadata": {
    "colab": {},
    "colab_type": "code",
    "executionInfo": {
     "elapsed": 559,
     "status": "ok",
     "timestamp": 1594580084471,
     "user": {
      "displayName": "Steven Cheng",
      "photoUrl": "",
      "userId": "15041532372456051546"
     },
     "user_tz": 420
    },
    "id": "uFXqLbjhK8e8"
   },
   "outputs": [],
   "source": [
    "# Import csv files\n",
    "icml_papers = pd.read_csv(\"ICML2020_papers_authors_ID.csv\")\n",
    "icml_authors = pd.read_csv(\"ICML2020_authors_all.csv\")"
   ]
  },
  {
   "cell_type": "code",
   "execution_count": null,
   "metadata": {
    "colab": {},
    "colab_type": "code",
    "executionInfo": {
     "elapsed": 506,
     "status": "ok",
     "timestamp": 1594580085636,
     "user": {
      "displayName": "Steven Cheng",
      "photoUrl": "",
      "userId": "15041532372456051546"
     },
     "user_tz": 420
    },
    "id": "nUC_mH4ULDVZ"
   },
   "outputs": [],
   "source": [
    "# Initialize variables\n",
    "authors_all = []\n",
    "papers_all = []"
   ]
  },
  {
   "cell_type": "code",
   "execution_count": null,
   "metadata": {
    "colab": {},
    "colab_type": "code",
    "executionInfo": {
     "elapsed": 645,
     "status": "ok",
     "timestamp": 1594580088973,
     "user": {
      "displayName": "Steven Cheng",
      "photoUrl": "",
      "userId": "15041532372456051546"
     },
     "user_tz": 420
    },
    "id": "_S2O-cIwLG4E"
   },
   "outputs": [],
   "source": [
    "# Institutions and Colleges to filter (we want to read them all!)\n",
    "institutions_and_colleges = []"
   ]
  },
  {
   "cell_type": "code",
   "execution_count": null,
   "metadata": {
    "colab": {},
    "colab_type": "code",
    "executionInfo": {
     "elapsed": 736,
     "status": "ok",
     "timestamp": 1594580090107,
     "user": {
      "displayName": "Steven Cheng",
      "photoUrl": "",
      "userId": "15041532372456051546"
     },
     "user_tz": 420
    },
    "id": "MzxtfpJeLO2w"
   },
   "outputs": [],
   "source": [
    "# Filter authors by desired institutions and colleges\n",
    "for i in range(len(icml_authors)):\n",
    "  author = str(icml_authors[\"Author\"][i])\n",
    "  affiliation = str(icml_authors[\"Affiliation\"][i])\n",
    "  res = not any(ele in affiliation for ele in institutions_and_colleges)\n",
    "  if res:\n",
    "    authors_all.append(author)"
   ]
  },
  {
   "cell_type": "code",
   "execution_count": null,
   "metadata": {
    "colab": {},
    "colab_type": "code",
    "executionInfo": {
     "elapsed": 786,
     "status": "ok",
     "timestamp": 1594580091564,
     "user": {
      "displayName": "Steven Cheng",
      "photoUrl": "",
      "userId": "15041532372456051546"
     },
     "user_tz": 420
    },
    "id": "IGo3g4BcLbKd"
   },
   "outputs": [],
   "source": [
    "# Scan through papers and choose the ones of which the authors you want to read about\n",
    "for i in range(len(icml_papers)):\n",
    "  paper = icml_papers[\"Paper Title\"][i]\n",
    "  authors = icml_papers[\"Authors\"][i]\n",
    "  id = icml_papers[\"ID\"][i]\n",
    "  res = any(ele in authors for ele in authors_all)\n",
    "  if res:\n",
    "    papers_all.append([paper, id])"
   ]
  },
  {
   "cell_type": "markdown",
   "metadata": {
    "colab_type": "text",
    "id": "ymRn-kmuJypa"
   },
   "source": [
    "Step 4: Obtaining the PDFs of all the papers you want to read. Will require login credentials to ICML 2020."
   ]
  },
  {
   "cell_type": "code",
   "execution_count": null,
   "metadata": {
    "colab": {},
    "colab_type": "code",
    "executionInfo": {
     "elapsed": 798,
     "status": "ok",
     "timestamp": 1594580097160,
     "user": {
      "displayName": "Steven Cheng",
      "photoUrl": "",
      "userId": "15041532372456051546"
     },
     "user_tz": 420
    },
    "id": "RQRfv4IuMOyP"
   },
   "outputs": [],
   "source": [
    "# Initialize variables\n",
    "url_template = \"https://icml.cc/virtual/2020/poster/\""
   ]
  },
  {
   "cell_type": "code",
   "execution_count": null,
   "metadata": {
    "colab": {
     "base_uri": "https://localhost:8080/",
     "height": 34
    },
    "colab_type": "code",
    "executionInfo": {
     "elapsed": 2093,
     "status": "ok",
     "timestamp": 1594580100340,
     "user": {
      "displayName": "Steven Cheng",
      "photoUrl": "",
      "userId": "15041532372456051546"
     },
     "user_tz": 420
    },
    "id": "Xa7dRVYxVpyY",
    "outputId": "a56bc7af-9853-49bf-c928-71098a1b857b"
   },
   "outputs": [],
   "source": [
    "# Login\n",
    "login_url = \"https://icml.cc/accounts/login?nextp=/virtual/2020\"\n",
    "EMAIL = \"ENTER YOUR OWN LOGIN USERNAME/EMAIL\"\n",
    "PASSWORD = \"ENTER YOUR OWN LOGIN PASSWORD\"\n",
    "\n",
    "session = requests.session()\n",
    "session.get(login_url)  # sets cookie\n",
    "if 'csrftoken' in session.cookies:\n",
    "    # Django 1.6 and up\n",
    "    csrftoken = session.cookies['csrftoken']\n",
    "else:\n",
    "    # older versions\n",
    "    csrftoken = session.cookies['csrf']\n",
    "\n",
    "login_data = dict(username=EMAIL, password=PASSWORD, csrfmiddlewaretoken=csrftoken, next='/')\n",
    "r = session.post(login_url, data=login_data, headers=dict(Referer=login_url))\n",
    "print(r.status_code)"
   ]
  },
  {
   "cell_type": "code",
   "execution_count": null,
   "metadata": {
    "colab": {
     "base_uri": "https://localhost:8080/",
     "height": 51
    },
    "colab_type": "code",
    "executionInfo": {
     "elapsed": 2042,
     "status": "ok",
     "timestamp": 1594580103734,
     "user": {
      "displayName": "Steven Cheng",
      "photoUrl": "",
      "userId": "15041532372456051546"
     },
     "user_tz": 420
    },
    "id": "TPvJmRQfekx6",
    "outputId": "3484e1de-7531-404a-c779-9fca468ba14a"
   },
   "outputs": [],
   "source": [
    "# Create a directory of papers\n",
    "%mkdir Papers\n",
    "%cd Papers"
   ]
  },
  {
   "cell_type": "code",
   "execution_count": null,
   "metadata": {
    "colab": {
     "base_uri": "https://localhost:8080/",
     "height": 545
    },
    "colab_type": "code",
    "executionInfo": {
     "elapsed": 37630,
     "status": "error",
     "timestamp": 1594580144619,
     "user": {
      "displayName": "Steven Cheng",
      "photoUrl": "",
      "userId": "15041532372456051546"
     },
     "user_tz": 420
    },
    "id": "b3vLbvb4KRuE",
    "outputId": "d055bcf3-18a7-453a-a402-5888ddb4ba9d"
   },
   "outputs": [],
   "source": [
    "# Find and download papers with their IDs, requires login!\n",
    "for paper_and_id in papers_all:\n",
    "  title = paper_and_id[0]\n",
    "  id = paper_and_id[1]\n",
    "  url = url_template + str(id)\n",
    "\n",
    "  # try:\n",
    "  page = session.get(url)\n",
    "  assert_equals(page.status_code) # Asserts that the page is parsable, 200 is success parse\n",
    "\n",
    "  # Find PDF link\n",
    "  soup = BeautifulSoup(page.content, \"html.parser\")\n",
    "  pdf_link = soup.find_all(\"a\", class_=\"card-link\")\n",
    "\n",
    "  # Just so users can see the pdf link\n",
    "  print(pdf_link[1])\n",
    "\n",
    "  # Download PDF to local directory\n",
    "  r = session.get(pdf_link[1].get('href'))\n",
    "  with open(\"{}.pdf\".format(title),'wb') as f: \n",
    "    f.write(r.content) \n",
    "  time.sleep(random.uniform(1,2))"
   ]
  },
  {
   "cell_type": "code",
   "execution_count": null,
   "metadata": {
    "colab": {},
    "colab_type": "code",
    "id": "rLA8wRR6mYhf"
   },
   "outputs": [],
   "source": [
    "# Zip everything\n",
    "!tar chvfz notebook.tar.gz *"
   ]
  }
 ],
 "metadata": {
  "colab": {
   "authorship_tag": "ABX9TyNGghb0ome3VYFjKbQGuKoa",
   "collapsed_sections": [],
   "name": "ICML2020_scraper.ipynb",
   "provenance": []
  },
  "kernelspec": {
   "display_name": "Python 3",
   "language": "python",
   "name": "python3"
  },
  "language_info": {
   "codemirror_mode": {
    "name": "ipython",
    "version": 3
   },
   "file_extension": ".py",
   "mimetype": "text/x-python",
   "name": "python",
   "nbconvert_exporter": "python",
   "pygments_lexer": "ipython3",
   "version": "3.7.7"
  }
 },
 "nbformat": 4,
 "nbformat_minor": 4
}
